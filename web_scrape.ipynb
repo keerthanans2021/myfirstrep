{
  "nbformat": 4,
  "nbformat_minor": 0,
  "metadata": {
    "colab": {
      "name": "web scrape",
      "provenance": [],
      "collapsed_sections": [],
      "authorship_tag": "ABX9TyMgOX4D4K6uRenXC73ZITIc",
      "include_colab_link": true
    },
    "kernelspec": {
      "name": "python3",
      "display_name": "Python 3"
    },
    "language_info": {
      "name": "python"
    }
  },
  "cells": [
    {
      "cell_type": "markdown",
      "metadata": {
        "id": "view-in-github",
        "colab_type": "text"
      },
      "source": [
        "<a href=\"https://colab.research.google.com/github/keerthanans2021/myfirstrep/blob/main/web_scrape.ipynb\" target=\"_parent\"><img src=\"https://colab.research.google.com/assets/colab-badge.svg\" alt=\"Open In Colab\"/></a>"
      ]
    },
    {
      "cell_type": "code",
      "execution_count": 1,
      "metadata": {
        "colab": {
          "base_uri": "https://localhost:8080/"
        },
        "id": "j9kbsDWn0MRH",
        "outputId": "b698600c-4608-4173-e063-0ab6ced9e441"
      },
      "outputs": [
        {
          "output_type": "stream",
          "name": "stdout",
          "text": [
            "Collecting git+https://github.com/alirezamika/autoscraper.git\n",
            "  Cloning https://github.com/alirezamika/autoscraper.git to /tmp/pip-req-build-mewf34cv\n",
            "  Running command git clone -q https://github.com/alirezamika/autoscraper.git /tmp/pip-req-build-mewf34cv\n",
            "Requirement already satisfied: requests in /usr/local/lib/python3.7/dist-packages (from autoscraper==1.1.12) (2.23.0)\n",
            "Requirement already satisfied: bs4 in /usr/local/lib/python3.7/dist-packages (from autoscraper==1.1.12) (0.0.1)\n",
            "Requirement already satisfied: lxml in /usr/local/lib/python3.7/dist-packages (from autoscraper==1.1.12) (4.2.6)\n",
            "Requirement already satisfied: beautifulsoup4 in /usr/local/lib/python3.7/dist-packages (from bs4->autoscraper==1.1.12) (4.6.3)\n",
            "Requirement already satisfied: certifi>=2017.4.17 in /usr/local/lib/python3.7/dist-packages (from requests->autoscraper==1.1.12) (2021.10.8)\n",
            "Requirement already satisfied: chardet<4,>=3.0.2 in /usr/local/lib/python3.7/dist-packages (from requests->autoscraper==1.1.12) (3.0.4)\n",
            "Requirement already satisfied: urllib3!=1.25.0,!=1.25.1,<1.26,>=1.21.1 in /usr/local/lib/python3.7/dist-packages (from requests->autoscraper==1.1.12) (1.24.3)\n",
            "Requirement already satisfied: idna<3,>=2.5 in /usr/local/lib/python3.7/dist-packages (from requests->autoscraper==1.1.12) (2.10)\n",
            "Building wheels for collected packages: autoscraper\n",
            "  Building wheel for autoscraper (setup.py) ... \u001b[?25l\u001b[?25hdone\n",
            "  Created wheel for autoscraper: filename=autoscraper-1.1.12-py3-none-any.whl size=10048 sha256=66387644631aeac1b23587d3761db0db27204354ef8ed2d13a819e87c7fafbb2\n",
            "  Stored in directory: /tmp/pip-ephem-wheel-cache-upn0pr3p/wheels/31/9d/56/6263a49f4fc2b82138579d99b7303489c482c89acbaef59326\n",
            "Successfully built autoscraper\n",
            "Installing collected packages: autoscraper\n",
            "Successfully installed autoscraper-1.1.12\n"
          ]
        }
      ],
      "source": [
        "pip install git+https://github.com/alirezamika/autoscraper.git"
      ]
    },
    {
      "cell_type": "code",
      "source": [
        "pip install autoscraper"
      ],
      "metadata": {
        "colab": {
          "base_uri": "https://localhost:8080/"
        },
        "id": "I5NPY4VC0TMa",
        "outputId": "01005a9f-a404-4162-ccfe-3bd48c1ee8e3"
      },
      "execution_count": 2,
      "outputs": [
        {
          "output_type": "stream",
          "name": "stdout",
          "text": [
            "Requirement already satisfied: autoscraper in /usr/local/lib/python3.7/dist-packages (1.1.12)\n",
            "Requirement already satisfied: bs4 in /usr/local/lib/python3.7/dist-packages (from autoscraper) (0.0.1)\n",
            "Requirement already satisfied: requests in /usr/local/lib/python3.7/dist-packages (from autoscraper) (2.23.0)\n",
            "Requirement already satisfied: lxml in /usr/local/lib/python3.7/dist-packages (from autoscraper) (4.2.6)\n",
            "Requirement already satisfied: beautifulsoup4 in /usr/local/lib/python3.7/dist-packages (from bs4->autoscraper) (4.6.3)\n",
            "Requirement already satisfied: urllib3!=1.25.0,!=1.25.1,<1.26,>=1.21.1 in /usr/local/lib/python3.7/dist-packages (from requests->autoscraper) (1.24.3)\n",
            "Requirement already satisfied: certifi>=2017.4.17 in /usr/local/lib/python3.7/dist-packages (from requests->autoscraper) (2021.10.8)\n",
            "Requirement already satisfied: chardet<4,>=3.0.2 in /usr/local/lib/python3.7/dist-packages (from requests->autoscraper) (3.0.4)\n",
            "Requirement already satisfied: idna<3,>=2.5 in /usr/local/lib/python3.7/dist-packages (from requests->autoscraper) (2.10)\n"
          ]
        }
      ]
    },
    {
      "cell_type": "code",
      "source": [
        "from autoscraper import AutoScraper\n"
      ],
      "metadata": {
        "id": "CstELWqd1kZw"
      },
      "execution_count": 16,
      "outputs": []
    },
    {
      "cell_type": "code",
      "source": [
        "url = 'https://en.wikipedia.org/wiki/Fish'\n",
        "wanted_list = ['Phylogeny']\n",
        "scraper = AutoScraper()\n",
        "result = scraper.build(url, wanted_list)\n",
        "print(result)"
      ],
      "metadata": {
        "colab": {
          "base_uri": "https://localhost:8080/"
        },
        "id": "R7xTonvf2z2J",
        "outputId": "beb8b5ae-876e-45b2-98b6-277967783e14"
      },
      "execution_count": 27,
      "outputs": [
        {
          "output_type": "stream",
          "name": "stdout",
          "text": [
            "['Bony fish', 'Core temperature', 'Cusk-eels', 'Fish farm', 'Paraphyletic', 'Old Irish language', 'Sea squirt', 'Secondary aquatic adaptation', 'Extinct', 'Extant taxon', 'Conodonta', 'Cyclostomata', 'Cichlidae', 'Last common ancestor', 'Cetacean', 'Streamlines, streaklines and pathlines', 'Pufferfish', 'Stout infantfish', 'River basin', 'Phylogeny', 'Scoloplacidae', 'African lungfish', 'Pyloric caeca', 'Filter (chemistry)', 'Olfaction', 'Circadian', 'Mormyrid', 'Lateral line system', 'Spherical', 'Hearing (sense)', 'Manta rays', 'Wrasses', 'RSPCA', 'Monogamous', 'Teleostei', 'Spermatogonia', 'Ovum', 'Oogonia', 'Endocrine', 'Hamlet (fish)', 'Ichthyology terms', 'Angel shark', 'Placental mammals', 'Livebearer', 'White blood cells', 'Lymphoid tissue', 'T cell receptor', 'Cyprinodon diabolis', 'Pacific sardine', 'Channidae', 'Developing nation', 'Ornamental fish', 'Oannes (mythology)', 'Dharma (Buddhism)', 'Taxonomy', 'Diversity', 'Respiration', 'Circulation', 'Digestion', 'Excretion', 'Scales', 'Sensory and nervous system', 'Muscular system', 'Reproductive system', 'Stridulatory', 'Non-stridulatory', 'Immune system', 'Overfishing', 'Habitat destruction', 'Exotic species', 'Economic', 'Recreation', 'Culture', '\"Fish\" or \"fishes\"', '\"True fish\" or \"finfish\"', '\"Shoal\" or \"school\"']\n"
          ]
        }
      ]
    },
    {
      "cell_type": "code",
      "source": [
        "scraper = AutoScraper()"
      ],
      "metadata": {
        "id": "1oqDCDTN1x8Z"
      },
      "execution_count": 20,
      "outputs": []
    },
    {
      "cell_type": "code",
      "source": [
        "scraper = AutoScraper()\n",
        "result = scraper.build(url, wanted_list)\n",
        "print(result)"
      ],
      "metadata": {
        "colab": {
          "base_uri": "https://localhost:8080/"
        },
        "id": "ke-zQJYz14Mh",
        "outputId": "e7dfad06-0d53-47e9-8aa9-3c89300fd48a"
      },
      "execution_count": 18,
      "outputs": [
        {
          "output_type": "stream",
          "name": "stdout",
          "text": [
            "[]\n"
          ]
        }
      ]
    }
  ]
}